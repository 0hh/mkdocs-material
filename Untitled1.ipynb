{
 "cells": [
  {
   "cell_type": "code",
   "execution_count": 9,
   "id": "ff5b8bbf",
   "metadata": {},
   "outputs": [],
   "source": [
    "import openai\n",
    "import os\n",
    "\n",
    "from dotenv import load_dotenv, find_dotenv\n",
    "_ = load_dotenv(find_dotenv())\n",
    "\n",
    "openai.api_key  = os.getenv('OPENAI_API_KEY')"
   ]
  },
  {
   "cell_type": "code",
   "execution_count": 10,
   "id": "5bc6c626",
   "metadata": {},
   "outputs": [],
   "source": [
    "model = \"gpt-3.5-turbo\""
   ]
  },
  {
   "cell_type": "code",
   "execution_count": 11,
   "id": "7b787d22",
   "metadata": {},
   "outputs": [],
   "source": [
    "def get_completion(prompt, model=model):\n",
    "    messages = [{\"role\": \"user\", \"content\": prompt}]\n",
    "    response = openai.ChatCompletion.create(\n",
    "        model=model,\n",
    "        messages=messages,\n",
    "        temperature=0, # this is the degree of randomness of the model's output\n",
    "    )\n",
    "    return response.choices[0].message[\"content\"]"
   ]
  },
  {
   "cell_type": "code",
   "execution_count": 13,
   "id": "f282cb9b",
   "metadata": {},
   "outputs": [
    {
     "name": "stdout",
     "output_type": "stream",
     "text": [
      "To import a YAML file into Python as a text string, you can use the PyYAML library. Here are the steps:\n",
      "\n",
      "1. Install PyYAML library using pip command:\n",
      "\n",
      "```\n",
      "pip install pyyaml\n",
      "```\n",
      "\n",
      "2. Import the PyYAML library in your Python script:\n",
      "\n",
      "```python\n",
      "import yaml\n",
      "```\n",
      "\n",
      "3. Open the YAML file using the `open()` function and read its contents:\n",
      "\n",
      "```python\n",
      "with open('file.yaml', 'r') as file:\n",
      "    yaml_text = file.read()\n",
      "```\n",
      "\n",
      "4. Now you have the YAML file contents as a text string in the `yaml_text` variable. You can use this string to parse the YAML data using the `yaml.load()` function:\n",
      "\n",
      "```python\n",
      "data = yaml.load(yaml_text, Loader=yaml.FullLoader)\n",
      "```\n",
      "\n",
      "Note: The `yaml.load()` function is used to parse the YAML data into a Python object. The `Loader=yaml.FullLoader` argument is used to specify the YAML parser to use.\n"
     ]
    }
   ],
   "source": [
    "response = get_completion(\"Instructions how to import a yaml file into python as text string\")\n",
    "print(response)"
   ]
  },
  {
   "cell_type": "code",
   "execution_count": null,
   "id": "8220ebe2",
   "metadata": {},
   "outputs": [],
   "source": []
  }
 ],
 "metadata": {
  "kernelspec": {
   "display_name": "Python 3 (ipykernel)",
   "language": "python",
   "name": "python3"
  },
  "language_info": {
   "codemirror_mode": {
    "name": "ipython",
    "version": 3
   },
   "file_extension": ".py",
   "mimetype": "text/x-python",
   "name": "python",
   "nbconvert_exporter": "python",
   "pygments_lexer": "ipython3",
   "version": "3.9.16"
  }
 },
 "nbformat": 4,
 "nbformat_minor": 5
}
